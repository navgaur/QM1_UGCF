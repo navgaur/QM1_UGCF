{
  "nbformat": 4,
  "nbformat_minor": 0,
  "metadata": {
    "colab": {
      "provenance": [],
      "authorship_tag": "ABX9TyMgjdi6qPdYtFVAYCs8qIx+",
      "include_colab_link": true
    },
    "kernelspec": {
      "name": "python3",
      "display_name": "Python 3"
    },
    "language_info": {
      "name": "python"
    }
  },
  "cells": [
    {
      "cell_type": "markdown",
      "metadata": {
        "id": "view-in-github",
        "colab_type": "text"
      },
      "source": [
        "<a href=\"https://colab.research.google.com/github/navgaur/QM1_UGCF/blob/main/Unit_3.ipynb\" target=\"_parent\"><img src=\"https://colab.research.google.com/assets/colab-badge.svg\" alt=\"Open In Colab\"/></a>"
      ]
    },
    {
      "cell_type": "markdown",
      "source": [
        "#**Solve the s-wave Schrodinger Equation**\n",
        "\n",
        "Schrodinger Equation\n",
        "$$ \\left[-\\frac{\\hbar^2}{2 m} \\nabla^2 + V(r) \\right] \\psi (\\hat{r}) = E \\psi(\\hat{r}) $$\n",
        "\n",
        "FOr spherically symmetric potentials $\\psi(\\hat{r}) = \\psi(r)$ and we will only have radial equation:\n",
        "$$ -\\frac{\\hbar^2}{2 m} \\left( \\frac{d^2}{dr^2} + \\frac{2}{r} \\frac{d}{dr} \\right)  \\psi (r) = E \\psi(r) $$\n",
        "Further introducing $u(r) = r \\psi(r)$:\n",
        ""
      ],
      "metadata": {
        "id": "XvxjKZm9EGvC"
      }
    },
    {
      "cell_type": "code",
      "execution_count": null,
      "metadata": {
        "id": "aHEf1YA9EBEF"
      },
      "outputs": [],
      "source": []
    }
  ]
}