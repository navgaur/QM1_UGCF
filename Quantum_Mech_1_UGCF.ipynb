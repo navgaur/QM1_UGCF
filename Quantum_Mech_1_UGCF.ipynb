{
  "nbformat": 4,
  "nbformat_minor": 0,
  "metadata": {
    "colab": {
      "provenance": [],
      "authorship_tag": "ABX9TyOjPIEIbJ1QDnPKfvtyzO4D",
      "include_colab_link": true
    },
    "kernelspec": {
      "name": "python3",
      "display_name": "Python 3"
    },
    "language_info": {
      "name": "python"
    }
  },
  "cells": [
    {
      "cell_type": "markdown",
      "metadata": {
        "id": "view-in-github",
        "colab_type": "text"
      },
      "source": [
        "<a href=\"https://colab.research.google.com/github/navgaur/QM1_UGCF/blob/main/Quantum_Mech_1_UGCF.ipynb\" target=\"_parent\"><img src=\"https://colab.research.google.com/assets/colab-badge.svg\" alt=\"Open In Colab\"/></a>"
      ]
    },
    {
      "cell_type": "markdown",
      "source": [
        "# **Quantum Mechanics 1 for UGCF Quantum Mechanics 1 Lab (DSC paper)**\n",
        "\n",
        "---"
      ],
      "metadata": {
        "id": "tV07_urWZuh8"
      }
    },
    {
      "cell_type": "markdown",
      "source": [
        "## **Visualize the spherical harmonics by plotting the probability density for various values of the quantum numbers (l,m)**\n",
        "\n",
        "Spherical Harmonics are the solutions of Laplace Equation:\n",
        "\n",
        "$$∇^2 T (r,\\theta, \\phi) = 0$$"
      ],
      "metadata": {
        "id": "3MZA60ufAyVH"
      }
    },
    {
      "cell_type": "code",
      "source": [],
      "metadata": {
        "id": "cblQhy8pA5Bw"
      },
      "execution_count": null,
      "outputs": []
    }
  ]
}