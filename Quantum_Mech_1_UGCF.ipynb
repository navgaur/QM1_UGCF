{
  "nbformat": 4,
  "nbformat_minor": 0,
  "metadata": {
    "colab": {
      "provenance": [],
      "authorship_tag": "ABX9TyNTqPaYBnjV7yTN9We0k2SZ",
      "include_colab_link": true
    },
    "kernelspec": {
      "name": "python3",
      "display_name": "Python 3"
    },
    "language_info": {
      "name": "python"
    }
  },
  "cells": [
    {
      "cell_type": "markdown",
      "metadata": {
        "id": "view-in-github",
        "colab_type": "text"
      },
      "source": [
        "<a href=\"https://colab.research.google.com/github/navgaur/QM1_UGCF/blob/main/Quantum_Mech_1_UGCF.ipynb\" target=\"_parent\"><img src=\"https://colab.research.google.com/assets/colab-badge.svg\" alt=\"Open In Colab\"/></a>"
      ]
    },
    {
      "cell_type": "markdown",
      "source": [
        "# **Quantum Mechanics 1 for UGCF Quantum Mechanics 1 Lab (DSC paper)**\n",
        "\n",
        "---"
      ],
      "metadata": {
        "id": "tV07_urWZuh8"
      }
    },
    {
      "cell_type": "markdown",
      "source": [
        "## **Visualize the spherical harmonics by plotting the probability density for various values of the quantum numbers (l,m)**\n",
        "\n",
        "Spherical Harmonics are the solutions of Laplace Equation:\n",
        "\n",
        "$$∇^2 T (r,\\theta, \\phi) = 0$$\n",
        "\n",
        "This eqn can be solved by using method of seperation of variables:\n",
        "$$T (r,\\theta, \\phi) = R(r) Θ(\\theta) \\Phi(\\phi) $$\n",
        "\n",
        "The $\\phi$ solution:\n",
        "$$ \\Phi(\\phi) = e^{im\\phi} ~~, ~~ e^{-im\\phi}$$\n",
        "with $m=0,1,2,3,...$\n",
        "\n",
        "\n",
        "This will give a radial equation:\n",
        "\n",
        "$$r^2 \\frac{d^2 R}{dr^2} + 2 r \\frac{dR}{dr} - \\ell (\\ell+1) R = 0$$\n",
        "\n",
        "with the solution:\n",
        "\n",
        "$$R(r) = r^\\ell ~~, ~~  r^{-\\ell-1} $$\n",
        "\n",
        "The $\\Theta(\\theta)$ solution is in form of Associated Legendre Polynomails\n",
        "\n",
        "$$ y  = \\Theta(\\theta) = P_\\ell^m(cos\\theta)$$\n",
        "with $m = -\\ell, -\\ell+1, ...., \\ell-1, \\ell$, $\\ell$ is a non-negative integer.\n",
        "\n",
        "Traditionally the solution of Laplace Equation in spherical harmonics is written as\n",
        "$$ Y_\\ell^m (\\theta,\\phi) =\n",
        "(-1)^m \\sqrt{ \\frac{(2\\ell+1)}{4 \\pi} \\frac{(\\ell-m)!}{(\\ell + m)!} }\n",
        "  P_\\ell^m (cos\\theta) e^{im\\phi} $$\n",
        "  \n",
        "\n"
      ],
      "metadata": {
        "id": "3MZA60ufAyVH"
      }
    },
    {
      "cell_type": "code",
      "source": [],
      "metadata": {
        "id": "cblQhy8pA5Bw"
      },
      "execution_count": null,
      "outputs": []
    }
  ]
}